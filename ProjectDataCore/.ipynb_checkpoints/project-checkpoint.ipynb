{
 "cells": [
  {
   "cell_type": "code",
   "execution_count": null,
   "metadata": {},
   "outputs": [],
   "source": [
    "import numpy as np\n",
    "import pandas as pd\n",
    "import math\n",
    "import os\n",
    "from sklearn.neighbors import KNeighborsClassifier\n",
    "from sklearn.model_selection import train_test_split\n",
    "from sklearn.metrics import accuracy_score\n",
    "from sklearn.impute import SimpleImputer\n",
    "from scipy.spatial.distance import euclidean"
   ]
  },
  {
   "cell_type": "code",
   "execution_count": null,
   "metadata": {},
   "outputs": [],
   "source": [
    "def load_signature_data(file_path):\n",
    "    # Définir les noms de colonnes\n",
    "    column_names = ['x', 'y', 'timestamp', 'button', 'azimuth', 'altitude', 'pressure']\n",
    "\n",
    "    # Charger le fichier CSV dans un DataFrame Pandas en utilisant les noms de colonnes\n",
    "    df = pd.read_csv(file_path, sep=' ', index_col=False, names=column_names)\n",
    "\n",
    "    # Supprimer la première ligne qui contient le nombre de lignes\n",
    "    df = df.iloc[1:]\n",
    "\n",
    "    # Réinitialiser les index du DataFrame\n",
    "    df = df.reset_index(drop=True)\n",
    "    \n",
    "    return df"
   ]
  },
  {
   "cell_type": "code",
   "execution_count": null,
   "metadata": {},
   "outputs": [],
   "source": [
    "def CalculeFeature(df):\n",
    "    epsilon = 1e-8  # Small epsilon value to avoid division by zero\n",
    "    # Calculer la différence de coordonnées à chaque instant\n",
    "    delta_x = df['x'].diff()\n",
    "    delta_y = df['y'].diff()\n",
    "\n",
    "    # Calculer la norme de la vitesse à chaque instant\n",
    "    delta_t = df['timestamp'].diff() + epsilon\n",
    "    vitesse = np.sqrt(delta_x**2 + delta_y**2) / delta_t\n",
    "\n",
    "    # Calculer la norme de l'accélération à chaque instant\n",
    "    acceleration = vitesse.diff() / delta_t\n",
    "    df['acceleration'] = acceleration \n",
    "\n",
    "    # Calculer l'inclinaison du stylo\n",
    "    pen_incl = np.arctan2(df['altitude'], df['azimuth'])\n",
    "    df['pen_incl'] = pen_incl \n",
    "      \n",
    "    # Calculer les dérivées secondes des coordonnées à chaque point\n",
    "\n",
    "    dx = np.gradient(df['x'])\n",
    "    dy = np.gradient(df['y'])\n",
    "\n",
    "    d2x = np.gradient(dx)\n",
    "    d2y = np.gradient(dy)\n",
    "\n",
    "    denominator = np.power(dx*dx + dy*dy, 1.5) + epsilon  # Add epsilon to denominator\n",
    "    curvature = np.abs(d2x*dy - dx*d2y) / denominator\n",
    "    \n",
    "    df['curvature'] = curvature\n",
    "    if df.isnull().any().any():  # Check if any column has null values\n",
    "        df = df.fillna(df.mean())\n",
    "    return df "
   ]
  },
  {
   "cell_type": "code",
   "execution_count": null,
   "metadata": {},
   "outputs": [],
   "source": [
    "def Fiturescomaper(df):\n",
    "    nouvelledf = df[['x', 'y', 'timestamp', 'pen_incl', 'curvature', 'acceleration']]\n",
    "    return nouvelledf\n",
    "\n",
    "def DonnerClasse(directory):\n",
    "    # Initialiser une liste pour stocker les DataFrames de chaque utilisateur\n",
    "    dfs = []\n",
    "\n",
    "    # Parcourir tous les fichiers du répertoire\n",
    "    for filename in os.listdir(directory):\n",
    "        if filename.endswith('.TXT'):\n",
    "            # Joindre le chemin du fichier avec le répertoire de travail actuel\n",
    "            file_path = os.path.join(directory, filename)\n",
    "\n",
    "            df = Fiturescomaper(CalculeFeature(load_signature_data(file_path)))\n",
    "\n",
    "            user_id, signature_id = filename.split('S')\n",
    "            user_id = int(user_id[1:])\n",
    "            signature_id = int(signature_id[:-4]) \n",
    "\n",
    "            df['classe'] = user_id\n",
    "        \n",
    "            # Ajouter le DataFrame à la liste\n",
    "            dfs.append(df)\n",
    "    \n",
    "    # Concaténer tous les DataFrames en un seul DataFrame\n",
    "    result = pd.concat(dfs, axis=0, ignore_index=True)\n",
    "\n",
    "    return result "
   ]
  },
  {
   "cell_type": "code",
   "execution_count": null,
   "metadata": {},
   "outputs": [],
   "source": [
    "def KNN(data):\n",
    "# Séparer les données en ensembles d'entraînement et de test\n",
    " X = data[['x', 'y', 'timestamp', 'pen_incl', 'curvature', 'acceleration']]\n",
    " y = data['classe']\n",
    " X_train, X_test, y_train, y_test = train_test_split(X, y, test_size=0.33, random_state=42)\n",
    "\n",
    "# Remplacer les valeurs infinies ou trop grandes par NaN\n",
    " X_train[~np.isfinite(X_train)] = 0\n",
    " X_test[~np.isfinite(X_test)] = 0\n",
    "\n",
    "# Imputer les valeurs manquantes par la moyenne de chaque colonne\n",
    " imputer = SimpleImputer(strategy='mean')\n",
    " X_train = imputer.fit_transform(X_train)\n",
    " X_test = imputer.transform(X_test)\n",
    "\n",
    "# Appliquer l'algorithme KNN avec k=5\n",
    " k = 3\n",
    " knn = KNeighborsClassifier(n_neighbors=k)\n",
    " knn.fit(X_train, y_train)\n",
    "\n",
    "# Prédire les classes pour les données de test\n",
    " y_pred = knn.predict(X_test)\n",
    "\n",
    "# Calculerl'accuracy\n",
    " accuracy = accuracy_score(y_test, y_pred)\n",
    " print('knn Accuracy:', accuracy)\n",
    "\n",
    " return knn"
   ]
  },
  {
   "cell_type": "code",
   "execution_count": null,
   "metadata": {},
   "outputs": [],
   "source": [
    "def compare_signatures(signature_path1, signature_path2):\n",
    "  \n",
    "    signature1 = Fiturescomaper(CalculeFeature(load_signature_data(signature_path1)))\n",
    "    signature2 = Fiturescomaper(CalculeFeature(load_signature_data(signature_path2)))\n",
    "\n",
    "    data = DonnerClasse('data/Task1/') \n",
    "    knn=KNN(data) \n",
    "   \n",
    "    minN = min(len(signature1), len(signature2))\n",
    "    \n",
    "    y1=knn.predict(signature1.iloc[:minN,:])\n",
    "    y2=knn.predict(signature2.iloc[:minN,:]) \n",
    "\n",
    "    accuracy = accuracy_score(y1, y2)   \n",
    "    if abs(len(signature1) - len(signature2)) > 20:\n",
    "        similarity=False\n",
    "    elif accuracy>0.90 : \n",
    "        similarity = True\n",
    "    else :\n",
    "        similarity = False\n",
    "    return accuracy , similarity"
   ]
  },
  {
   "cell_type": "code",
   "execution_count": null,
   "metadata": {},
   "outputs": [
    {
     "name": "stdout",
     "output_type": "stream",
     "text": [
      "knn Accuracy: 0.9937368614957849\n",
      " (0.9859154929577465, True)\n"
     ]
    },
    {
     "name": "stderr",
     "output_type": "stream",
     "text": [
      "c:\\Users\\LENOVO-PC\\AppData\\Local\\Programs\\Python\\Python310\\lib\\site-packages\\sklearn\\base.py:443: UserWarning: X has feature names, but KNeighborsClassifier was fitted without feature names\n",
      "  warnings.warn(\n",
      "c:\\Users\\LENOVO-PC\\AppData\\Local\\Programs\\Python\\Python310\\lib\\site-packages\\sklearn\\base.py:443: UserWarning: X has feature names, but KNeighborsClassifier was fitted without feature names\n",
      "  warnings.warn(\n"
     ]
    }
   ],
   "source": [
    "# Définir le répertoire contenant les fichiers texte\n",
    "directory = './data/Task1/'\n",
    "\n",
    "data = DonnerClasse(directory)\n",
    "\n",
    "acc=compare_signatures(\"./data/Task1/U1S13.TXT\", \"./data/Task1/U10S11.TXT\")\n",
    "print(\"\",acc)"
   ]
  }
 ],
 "metadata": {
  "kernelspec": {
   "display_name": "Python 3",
   "language": "python",
   "name": "python3"
  },
  "language_info": {
   "codemirror_mode": {
    "name": "ipython",
    "version": 3
   },
   "file_extension": ".py",
   "mimetype": "text/x-python",
   "name": "python",
   "nbconvert_exporter": "python",
   "pygments_lexer": "ipython3",
   "version": "3.10.8"
  }
 },
 "nbformat": 4,
 "nbformat_minor": 2
}
